{
 "cells": [
  {
   "cell_type": "code",
   "execution_count": 1,
   "metadata": {},
   "outputs": [],
   "source": [
    "import pandas as pd"
   ]
  },
  {
   "cell_type": "code",
   "execution_count": 3,
   "metadata": {},
   "outputs": [
    {
     "ename": "ImportError",
     "evalue": "cannot import name 'NodeRecordsProcessor' from 'NodeRecords_tools' (c:\\Users\\Käyttäjä\\Documents\\GitHub\\TrajectoryLog-and-NodeRecords-tools\\NodeRecords_tools.py)",
     "output_type": "error",
     "traceback": [
      "\u001b[1;31m---------------------------------------------------------------------------\u001b[0m",
      "\u001b[1;31mImportError\u001b[0m                               Traceback (most recent call last)",
      "Cell \u001b[1;32mIn[3], line 1\u001b[0m\n\u001b[1;32m----> 1\u001b[0m \u001b[38;5;28;01mfrom\u001b[39;00m \u001b[38;5;21;01mNodeRecords_tools\u001b[39;00m \u001b[38;5;28;01mimport\u001b[39;00m NodeRecordsProcessor\n",
      "\u001b[1;31mImportError\u001b[0m: cannot import name 'NodeRecordsProcessor' from 'NodeRecords_tools' (c:\\Users\\Käyttäjä\\Documents\\GitHub\\TrajectoryLog-and-NodeRecords-tools\\NodeRecords_tools.py)"
     ]
    }
   ],
   "source": [
    "from NodeRecords_tools import NodeRecordsProcessor"
   ]
  }
 ],
 "metadata": {
  "kernelspec": {
   "display_name": "base",
   "language": "python",
   "name": "python3"
  },
  "language_info": {
   "codemirror_mode": {
    "name": "ipython",
    "version": 3
   },
   "file_extension": ".py",
   "mimetype": "text/x-python",
   "name": "python",
   "nbconvert_exporter": "python",
   "pygments_lexer": "ipython3",
   "version": "3.11.7"
  }
 },
 "nbformat": 4,
 "nbformat_minor": 2
}
